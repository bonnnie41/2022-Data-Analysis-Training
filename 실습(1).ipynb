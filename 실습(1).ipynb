{
 "cells": [
  {
   "cell_type": "markdown",
   "id": "989b454b",
   "metadata": {},
   "source": [
    "# 범주형 데이터의 실수화  \n",
    "1. 범주형 데이터의 실수화"
   ]
  },
  {
   "cell_type": "markdown",
   "id": "b88ea4a3",
   "metadata": {},
   "source": [
    "1) 필요 라이브러리 import"
   ]
  },
  {
   "cell_type": "code",
   "execution_count": 34,
   "id": "40e5dcd7",
   "metadata": {},
   "outputs": [],
   "source": [
    "import pandas as pd\n",
    "from sklearn.preprocessing import LabelEncoder\n",
    "from sklearn.preprocessing import OneHotEncoder"
   ]
  },
  {
   "cell_type": "markdown",
   "id": "88bacc71",
   "metadata": {},
   "source": [
    "2) 데이터셋 생성 및 확인"
   ]
  },
  {
   "cell_type": "code",
   "execution_count": 36,
   "id": "79df5300",
   "metadata": {},
   "outputs": [],
   "source": [
    "x_train = pd.DataFrame([\"남성\", \"여성\", \"남성\", \"여성\", \"남성\", \"여성\"], columns = [\"성별\"])"
   ]
  },
  {
   "cell_type": "code",
   "execution_count": 12,
   "id": "bacd258b",
   "metadata": {},
   "outputs": [
    {
     "data": {
      "text/html": [
       "<div>\n",
       "<style scoped>\n",
       "    .dataframe tbody tr th:only-of-type {\n",
       "        vertical-align: middle;\n",
       "    }\n",
       "\n",
       "    .dataframe tbody tr th {\n",
       "        vertical-align: top;\n",
       "    }\n",
       "\n",
       "    .dataframe thead th {\n",
       "        text-align: right;\n",
       "    }\n",
       "</style>\n",
       "<table border=\"1\" class=\"dataframe\">\n",
       "  <thead>\n",
       "    <tr style=\"text-align: right;\">\n",
       "      <th></th>\n",
       "      <th>성별</th>\n",
       "    </tr>\n",
       "  </thead>\n",
       "  <tbody>\n",
       "    <tr>\n",
       "      <th>0</th>\n",
       "      <td>남성</td>\n",
       "    </tr>\n",
       "    <tr>\n",
       "      <th>1</th>\n",
       "      <td>여성</td>\n",
       "    </tr>\n",
       "    <tr>\n",
       "      <th>2</th>\n",
       "      <td>남성</td>\n",
       "    </tr>\n",
       "  </tbody>\n",
       "</table>\n",
       "</div>"
      ],
      "text/plain": [
       "   성별\n",
       "0  남성\n",
       "1  여성\n",
       "2  남성"
      ]
     },
     "execution_count": 12,
     "metadata": {},
     "output_type": "execute_result"
    }
   ],
   "source": [
    "x_train.head(3)"
   ]
  },
  {
   "cell_type": "code",
   "execution_count": 13,
   "id": "0942de81",
   "metadata": {},
   "outputs": [
    {
     "name": "stdout",
     "output_type": "stream",
     "text": [
      "<class 'pandas.core.frame.DataFrame'>\n",
      "RangeIndex: 6 entries, 0 to 5\n",
      "Data columns (total 1 columns):\n",
      " #   Column  Non-Null Count  Dtype \n",
      "---  ------  --------------  ----- \n",
      " 0   성별      6 non-null      object\n",
      "dtypes: object(1)\n",
      "memory usage: 176.0+ bytes\n"
     ]
    }
   ],
   "source": [
    "x_train.info()"
   ]
  },
  {
   "cell_type": "code",
   "execution_count": 14,
   "id": "0a20a2d3",
   "metadata": {},
   "outputs": [
    {
     "data": {
      "text/plain": [
       "남성    3\n",
       "여성    3\n",
       "Name: 성별, dtype: int64"
      ]
     },
     "execution_count": 14,
     "metadata": {},
     "output_type": "execute_result"
    }
   ],
   "source": [
    "x_train['성별'].value_counts()"
   ]
  },
  {
   "cell_type": "markdown",
   "id": "ba7699c0",
   "metadata": {},
   "source": [
    "3) 레이블 인코딩"
   ]
  },
  {
   "cell_type": "code",
   "execution_count": 15,
   "id": "12be9d43",
   "metadata": {},
   "outputs": [],
   "source": [
    "encoding = LabelEncoder()\n",
    "encoding.fit(x_train[\"성별\"])\n",
    "x_train[\"성별_인코딩\"] = encoding.transform(x_train[\"성별\"])"
   ]
  },
  {
   "cell_type": "markdown",
   "id": "35c6dad2",
   "metadata": {},
   "source": [
    "4) 인코딩 결과 확인"
   ]
  },
  {
   "cell_type": "code",
   "execution_count": 16,
   "id": "aec51ae3",
   "metadata": {},
   "outputs": [
    {
     "data": {
      "text/html": [
       "<div>\n",
       "<style scoped>\n",
       "    .dataframe tbody tr th:only-of-type {\n",
       "        vertical-align: middle;\n",
       "    }\n",
       "\n",
       "    .dataframe tbody tr th {\n",
       "        vertical-align: top;\n",
       "    }\n",
       "\n",
       "    .dataframe thead th {\n",
       "        text-align: right;\n",
       "    }\n",
       "</style>\n",
       "<table border=\"1\" class=\"dataframe\">\n",
       "  <thead>\n",
       "    <tr style=\"text-align: right;\">\n",
       "      <th></th>\n",
       "      <th>성별</th>\n",
       "      <th>성별_인코딩</th>\n",
       "    </tr>\n",
       "  </thead>\n",
       "  <tbody>\n",
       "    <tr>\n",
       "      <th>0</th>\n",
       "      <td>남성</td>\n",
       "      <td>0</td>\n",
       "    </tr>\n",
       "    <tr>\n",
       "      <th>1</th>\n",
       "      <td>여성</td>\n",
       "      <td>1</td>\n",
       "    </tr>\n",
       "    <tr>\n",
       "      <th>2</th>\n",
       "      <td>남성</td>\n",
       "      <td>0</td>\n",
       "    </tr>\n",
       "    <tr>\n",
       "      <th>3</th>\n",
       "      <td>여성</td>\n",
       "      <td>1</td>\n",
       "    </tr>\n",
       "    <tr>\n",
       "      <th>4</th>\n",
       "      <td>남성</td>\n",
       "      <td>0</td>\n",
       "    </tr>\n",
       "    <tr>\n",
       "      <th>5</th>\n",
       "      <td>여성</td>\n",
       "      <td>1</td>\n",
       "    </tr>\n",
       "  </tbody>\n",
       "</table>\n",
       "</div>"
      ],
      "text/plain": [
       "   성별  성별_인코딩\n",
       "0  남성       0\n",
       "1  여성       1\n",
       "2  남성       0\n",
       "3  여성       1\n",
       "4  남성       0\n",
       "5  여성       1"
      ]
     },
     "execution_count": 16,
     "metadata": {},
     "output_type": "execute_result"
    }
   ],
   "source": [
    "x_train"
   ]
  },
  {
   "cell_type": "code",
   "execution_count": 17,
   "id": "a2defde0",
   "metadata": {},
   "outputs": [
    {
     "name": "stdout",
     "output_type": "stream",
     "text": [
      "['남성', '여성']\n",
      "['남성', '여성']\n"
     ]
    }
   ],
   "source": [
    "print(list(encoding.classes_))\n",
    "print(list(encoding.inverse_transform([0,1])))"
   ]
  },
  {
   "cell_type": "markdown",
   "id": "cc517573",
   "metadata": {},
   "source": [
    "# 2. One-Hot-Encoding "
   ]
  },
  {
   "cell_type": "markdown",
   "id": "d884f6e5",
   "metadata": {},
   "source": [
    "1) 데이터 확인"
   ]
  },
  {
   "cell_type": "code",
   "execution_count": 18,
   "id": "d6fddf7c",
   "metadata": {},
   "outputs": [
    {
     "data": {
      "text/html": [
       "<div>\n",
       "<style scoped>\n",
       "    .dataframe tbody tr th:only-of-type {\n",
       "        vertical-align: middle;\n",
       "    }\n",
       "\n",
       "    .dataframe tbody tr th {\n",
       "        vertical-align: top;\n",
       "    }\n",
       "\n",
       "    .dataframe thead th {\n",
       "        text-align: right;\n",
       "    }\n",
       "</style>\n",
       "<table border=\"1\" class=\"dataframe\">\n",
       "  <thead>\n",
       "    <tr style=\"text-align: right;\">\n",
       "      <th></th>\n",
       "      <th>성별</th>\n",
       "      <th>성별_인코딩</th>\n",
       "    </tr>\n",
       "  </thead>\n",
       "  <tbody>\n",
       "    <tr>\n",
       "      <th>0</th>\n",
       "      <td>남성</td>\n",
       "      <td>0</td>\n",
       "    </tr>\n",
       "    <tr>\n",
       "      <th>1</th>\n",
       "      <td>여성</td>\n",
       "      <td>1</td>\n",
       "    </tr>\n",
       "  </tbody>\n",
       "</table>\n",
       "</div>"
      ],
      "text/plain": [
       "   성별  성별_인코딩\n",
       "0  남성       0\n",
       "1  여성       1"
      ]
     },
     "execution_count": 18,
     "metadata": {},
     "output_type": "execute_result"
    }
   ],
   "source": [
    "x_train.head(2)"
   ]
  },
  {
   "cell_type": "markdown",
   "id": "4400a6f2",
   "metadata": {},
   "source": [
    "2) One-Hot-Encoding"
   ]
  },
  {
   "cell_type": "code",
   "execution_count": 19,
   "id": "c434d6e5",
   "metadata": {},
   "outputs": [
    {
     "data": {
      "text/plain": [
       "array([[1., 0.],\n",
       "       [0., 1.],\n",
       "       [1., 0.],\n",
       "       [0., 1.],\n",
       "       [1., 0.],\n",
       "       [0., 1.]])"
      ]
     },
     "execution_count": 19,
     "metadata": {},
     "output_type": "execute_result"
    }
   ],
   "source": [
    "one_encoding = OneHotEncoder(sparse=False)\n",
    "one_encoding.fit(x_train[[\"성별\"]])\n",
    "one_encoding.transform(x_train[[\"성별\"]])"
   ]
  },
  {
   "cell_type": "code",
   "execution_count": 37,
   "id": "13d112d0",
   "metadata": {},
   "outputs": [
    {
     "name": "stdout",
     "output_type": "stream",
     "text": [
      "['x0_남성' 'x0_여성']\n"
     ]
    },
    {
     "name": "stderr",
     "output_type": "stream",
     "text": [
      "C:\\Users\\user\\anaconda3\\lib\\site-packages\\sklearn\\utils\\deprecation.py:87: FutureWarning: Function get_feature_names is deprecated; get_feature_names is deprecated in 1.0 and will be removed in 1.2. Please use get_feature_names_out instead.\n",
      "  warnings.warn(msg, category=FutureWarning)\n"
     ]
    }
   ],
   "source": [
    "print(one_encoding.get_feature_names())"
   ]
  },
  {
   "cell_type": "markdown",
   "id": "4fc5a390",
   "metadata": {},
   "source": [
    "3) 인코딩 결과 확인"
   ]
  },
  {
   "cell_type": "code",
   "execution_count": 21,
   "id": "ec3c0b85",
   "metadata": {},
   "outputs": [],
   "source": [
    "x_train_one = pd.DataFrame(one_encoding.transform(x_train[['성별']]),\n",
    "columns=['성별0', '성별1'])"
   ]
  },
  {
   "cell_type": "code",
   "execution_count": 22,
   "id": "30dca73e",
   "metadata": {},
   "outputs": [],
   "source": [
    "x_train = pd.concat([x_train, x_train_one], axis=1)"
   ]
  },
  {
   "cell_type": "code",
   "execution_count": 23,
   "id": "bb9f15da",
   "metadata": {},
   "outputs": [
    {
     "data": {
      "text/html": [
       "<div>\n",
       "<style scoped>\n",
       "    .dataframe tbody tr th:only-of-type {\n",
       "        vertical-align: middle;\n",
       "    }\n",
       "\n",
       "    .dataframe tbody tr th {\n",
       "        vertical-align: top;\n",
       "    }\n",
       "\n",
       "    .dataframe thead th {\n",
       "        text-align: right;\n",
       "    }\n",
       "</style>\n",
       "<table border=\"1\" class=\"dataframe\">\n",
       "  <thead>\n",
       "    <tr style=\"text-align: right;\">\n",
       "      <th></th>\n",
       "      <th>성별</th>\n",
       "      <th>성별_인코딩</th>\n",
       "      <th>성별0</th>\n",
       "      <th>성별1</th>\n",
       "    </tr>\n",
       "  </thead>\n",
       "  <tbody>\n",
       "    <tr>\n",
       "      <th>0</th>\n",
       "      <td>남성</td>\n",
       "      <td>0</td>\n",
       "      <td>1.0</td>\n",
       "      <td>0.0</td>\n",
       "    </tr>\n",
       "    <tr>\n",
       "      <th>1</th>\n",
       "      <td>여성</td>\n",
       "      <td>1</td>\n",
       "      <td>0.0</td>\n",
       "      <td>1.0</td>\n",
       "    </tr>\n",
       "    <tr>\n",
       "      <th>2</th>\n",
       "      <td>남성</td>\n",
       "      <td>0</td>\n",
       "      <td>1.0</td>\n",
       "      <td>0.0</td>\n",
       "    </tr>\n",
       "  </tbody>\n",
       "</table>\n",
       "</div>"
      ],
      "text/plain": [
       "   성별  성별_인코딩  성별0  성별1\n",
       "0  남성       0  1.0  0.0\n",
       "1  여성       1  0.0  1.0\n",
       "2  남성       0  1.0  0.0"
      ]
     },
     "execution_count": 23,
     "metadata": {},
     "output_type": "execute_result"
    }
   ],
   "source": [
    "x_train.head(3)"
   ]
  },
  {
   "cell_type": "markdown",
   "id": "6a80f1c2",
   "metadata": {},
   "source": [
    "# 텍스트 데이터 실수화"
   ]
  },
  {
   "cell_type": "markdown",
   "id": "e75488f0",
   "metadata": {},
   "source": [
    "1. 단어의 빈도수를 카운트하여 단어를 수치화하는 방법"
   ]
  },
  {
   "cell_type": "markdown",
   "id": "d6a709c4",
   "metadata": {},
   "source": [
    "1) 필요 라이브러리 import"
   ]
  },
  {
   "cell_type": "code",
   "execution_count": 24,
   "id": "473e65af",
   "metadata": {},
   "outputs": [],
   "source": [
    "from sklearn.feature_extraction.text import CountVectorizer"
   ]
  },
  {
   "cell_type": "markdown",
   "id": "17c88f7f",
   "metadata": {},
   "source": [
    "2) 데이터셋 생성 및 확인"
   ]
  },
  {
   "cell_type": "code",
   "execution_count": 25,
   "id": "50bcc551",
   "metadata": {},
   "outputs": [],
   "source": [
    "corpus = [\n",
    "            '청년 인재 개발 양성 과정',\n",
    "            '인공지능 청년 양성',\n",
    "            '미래 인공지능 데이터 대한민국',\n",
    "            '데이터 원유 기술사 청년 개발',\n",
    "]"
   ]
  },
  {
   "cell_type": "code",
   "execution_count": 26,
   "id": "b1b951d8",
   "metadata": {},
   "outputs": [
    {
     "data": {
      "text/plain": [
       "['청년 인재 개발 양성 과정', '인공지능 청년 양성', '미래 인공지능 데이터 대한민국', '데이터 원유 기술사 청년 개발']"
      ]
     },
     "execution_count": 26,
     "metadata": {},
     "output_type": "execute_result"
    }
   ],
   "source": [
    "corpus"
   ]
  },
  {
   "cell_type": "code",
   "execution_count": 27,
   "id": "6a7dfddf",
   "metadata": {},
   "outputs": [
    {
     "data": {
      "text/plain": [
       "list"
      ]
     },
     "execution_count": 27,
     "metadata": {},
     "output_type": "execute_result"
    }
   ],
   "source": [
    "type(corpus)"
   ]
  },
  {
   "cell_type": "markdown",
   "id": "e1eb4db9",
   "metadata": {},
   "source": [
    "3) 텍스트 실수화 : 단어의 빈도수를 카운트"
   ]
  },
  {
   "cell_type": "code",
   "execution_count": 28,
   "id": "467fcce2",
   "metadata": {},
   "outputs": [
    {
     "data": {
      "text/plain": [
       "{'청년': 10,\n",
       " '인재': 9,\n",
       " '개발': 0,\n",
       " '양성': 6,\n",
       " '과정': 1,\n",
       " '인공지능': 8,\n",
       " '미래': 5,\n",
       " '데이터': 4,\n",
       " '대한민국': 3,\n",
       " '원유': 7,\n",
       " '기술사': 2}"
      ]
     },
     "execution_count": 28,
     "metadata": {},
     "output_type": "execute_result"
    }
   ],
   "source": [
    "count_vect = CountVectorizer()\n",
    "count_vect.fit(corpus)\n",
    "count_vect.vocabulary_"
   ]
  },
  {
   "cell_type": "code",
   "execution_count": 29,
   "id": "406108c5",
   "metadata": {},
   "outputs": [
    {
     "data": {
      "text/plain": [
       "array([[1, 1, 0, 0, 0, 0, 1, 0, 0, 1, 1],\n",
       "       [0, 0, 0, 0, 0, 0, 1, 0, 1, 0, 1],\n",
       "       [0, 0, 0, 1, 1, 1, 0, 0, 1, 0, 0],\n",
       "       [1, 0, 1, 0, 1, 0, 0, 1, 0, 0, 1]], dtype=int64)"
      ]
     },
     "execution_count": 29,
     "metadata": {},
     "output_type": "execute_result"
    }
   ],
   "source": [
    "count_vect.transform(corpus).toarray()"
   ]
  },
  {
   "cell_type": "code",
   "execution_count": 30,
   "id": "332af08f",
   "metadata": {},
   "outputs": [],
   "source": [
    "features = count_vect.transform(corpus)"
   ]
  },
  {
   "cell_type": "code",
   "execution_count": 31,
   "id": "9c70a6e3",
   "metadata": {},
   "outputs": [
    {
     "data": {
      "text/plain": [
       "<4x11 sparse matrix of type '<class 'numpy.int64'>'\n",
       "\twith 17 stored elements in Compressed Sparse Row format>"
      ]
     },
     "execution_count": 31,
     "metadata": {},
     "output_type": "execute_result"
    }
   ],
   "source": [
    "features"
   ]
  },
  {
   "cell_type": "markdown",
   "id": "2b0bb352",
   "metadata": {},
   "source": [
    "4) 문서단어행렬로 변환 "
   ]
  },
  {
   "cell_type": "code",
   "execution_count": 32,
   "id": "0bc83857",
   "metadata": {},
   "outputs": [
    {
     "name": "stderr",
     "output_type": "stream",
     "text": [
      "C:\\Users\\user\\anaconda3\\lib\\site-packages\\sklearn\\utils\\deprecation.py:87: FutureWarning: Function get_feature_names is deprecated; get_feature_names is deprecated in 1.0 and will be removed in 1.2. Please use get_feature_names_out instead.\n",
      "  warnings.warn(msg, category=FutureWarning)\n"
     ]
    }
   ],
   "source": [
    "vocab = count_vect.get_feature_names()"
   ]
  },
  {
   "cell_type": "code",
   "execution_count": 33,
   "id": "0e812d5c",
   "metadata": {},
   "outputs": [
    {
     "data": {
      "text/plain": [
       "['개발', '과정', '기술사', '대한민국', '데이터', '미래', '양성', '원유', '인공지능', '인재', '청년']"
      ]
     },
     "execution_count": 33,
     "metadata": {},
     "output_type": "execute_result"
    }
   ],
   "source": [
    "vocab"
   ]
  },
  {
   "cell_type": "code",
   "execution_count": 39,
   "id": "42ed88a0",
   "metadata": {},
   "outputs": [],
   "source": [
    "DTM = pd.DataFrame(features.toarray(), columns = vocab).head()"
   ]
  },
  {
   "cell_type": "code",
   "execution_count": 40,
   "id": "f604864b",
   "metadata": {},
   "outputs": [
    {
     "data": {
      "text/html": [
       "<div>\n",
       "<style scoped>\n",
       "    .dataframe tbody tr th:only-of-type {\n",
       "        vertical-align: middle;\n",
       "    }\n",
       "\n",
       "    .dataframe tbody tr th {\n",
       "        vertical-align: top;\n",
       "    }\n",
       "\n",
       "    .dataframe thead th {\n",
       "        text-align: right;\n",
       "    }\n",
       "</style>\n",
       "<table border=\"1\" class=\"dataframe\">\n",
       "  <thead>\n",
       "    <tr style=\"text-align: right;\">\n",
       "      <th></th>\n",
       "      <th>개발</th>\n",
       "      <th>과정</th>\n",
       "      <th>기술사</th>\n",
       "      <th>대한민국</th>\n",
       "      <th>데이터</th>\n",
       "      <th>미래</th>\n",
       "      <th>양성</th>\n",
       "      <th>원유</th>\n",
       "      <th>인공지능</th>\n",
       "      <th>인재</th>\n",
       "      <th>청년</th>\n",
       "    </tr>\n",
       "  </thead>\n",
       "  <tbody>\n",
       "    <tr>\n",
       "      <th>0</th>\n",
       "      <td>1</td>\n",
       "      <td>1</td>\n",
       "      <td>0</td>\n",
       "      <td>0</td>\n",
       "      <td>0</td>\n",
       "      <td>0</td>\n",
       "      <td>1</td>\n",
       "      <td>0</td>\n",
       "      <td>0</td>\n",
       "      <td>1</td>\n",
       "      <td>1</td>\n",
       "    </tr>\n",
       "    <tr>\n",
       "      <th>1</th>\n",
       "      <td>0</td>\n",
       "      <td>0</td>\n",
       "      <td>0</td>\n",
       "      <td>0</td>\n",
       "      <td>0</td>\n",
       "      <td>0</td>\n",
       "      <td>1</td>\n",
       "      <td>0</td>\n",
       "      <td>1</td>\n",
       "      <td>0</td>\n",
       "      <td>1</td>\n",
       "    </tr>\n",
       "    <tr>\n",
       "      <th>2</th>\n",
       "      <td>0</td>\n",
       "      <td>0</td>\n",
       "      <td>0</td>\n",
       "      <td>1</td>\n",
       "      <td>1</td>\n",
       "      <td>1</td>\n",
       "      <td>0</td>\n",
       "      <td>0</td>\n",
       "      <td>1</td>\n",
       "      <td>0</td>\n",
       "      <td>0</td>\n",
       "    </tr>\n",
       "    <tr>\n",
       "      <th>3</th>\n",
       "      <td>1</td>\n",
       "      <td>0</td>\n",
       "      <td>1</td>\n",
       "      <td>0</td>\n",
       "      <td>1</td>\n",
       "      <td>0</td>\n",
       "      <td>0</td>\n",
       "      <td>1</td>\n",
       "      <td>0</td>\n",
       "      <td>0</td>\n",
       "      <td>1</td>\n",
       "    </tr>\n",
       "  </tbody>\n",
       "</table>\n",
       "</div>"
      ],
      "text/plain": [
       "   개발  과정  기술사  대한민국  데이터  미래  양성  원유  인공지능  인재  청년\n",
       "0   1   1    0     0    0   0   1   0     0   1   1\n",
       "1   0   0    0     0    0   0   1   0     1   0   1\n",
       "2   0   0    0     1    1   1   0   0     1   0   0\n",
       "3   1   0    1     0    1   0   0   1     0   0   1"
      ]
     },
     "execution_count": 40,
     "metadata": {},
     "output_type": "execute_result"
    }
   ],
   "source": [
    "DTM"
   ]
  },
  {
   "cell_type": "code",
   "execution_count": 41,
   "id": "53a6300a",
   "metadata": {},
   "outputs": [
    {
     "data": {
      "text/plain": [
       "array([[0, 0, 1, 1, 0, 0, 0, 0, 0, 1, 0]], dtype=int64)"
      ]
     },
     "execution_count": 41,
     "metadata": {},
     "output_type": "execute_result"
    }
   ],
   "source": [
    "count_vect.transform(['기술사 대한민국 인재 만세']).toarray()"
   ]
  },
  {
   "cell_type": "markdown",
   "id": "3d4b60de",
   "metadata": {},
   "source": [
    "2 단어의 빈도수를 단어들마다 중요한 정도를 가중치로 주어 수치화하는 방법"
   ]
  },
  {
   "cell_type": "markdown",
   "id": "ee4ee221",
   "metadata": {},
   "source": [
    "1) 필요 라이브러리 import"
   ]
  },
  {
   "cell_type": "code",
   "execution_count": 43,
   "id": "483c1378",
   "metadata": {},
   "outputs": [],
   "source": [
    "from sklearn.feature_extraction.text import TfidfVectorizer"
   ]
  },
  {
   "cell_type": "markdown",
   "id": "a44a2a92",
   "metadata": {},
   "source": [
    "2) 데이터set 생성 및 확인"
   ]
  },
  {
   "cell_type": "code",
   "execution_count": 44,
   "id": "ff7445e8",
   "metadata": {},
   "outputs": [
    {
     "data": {
      "text/plain": [
       "['청년 인재 개발 양성 과정', '인공지능 청년 양성', '미래 인공지능 데이터 대한민국', '데이터 원유 기술사 청년 개발']"
      ]
     },
     "execution_count": 44,
     "metadata": {},
     "output_type": "execute_result"
    }
   ],
   "source": [
    "corpus"
   ]
  },
  {
   "cell_type": "markdown",
   "id": "08023010",
   "metadata": {},
   "source": [
    "3) 텍스트 실수화 : TF-IDF 방식"
   ]
  },
  {
   "cell_type": "code",
   "execution_count": 45,
   "id": "a492494d",
   "metadata": {},
   "outputs": [],
   "source": [
    "tfid = TfidfVectorizer()"
   ]
  },
  {
   "cell_type": "code",
   "execution_count": 46,
   "id": "7d0985f0",
   "metadata": {},
   "outputs": [
    {
     "data": {
      "text/plain": [
       "TfidfVectorizer()"
      ]
     },
     "execution_count": 46,
     "metadata": {},
     "output_type": "execute_result"
    }
   ],
   "source": [
    "tfid.fit(corpus)"
   ]
  },
  {
   "cell_type": "code",
   "execution_count": 48,
   "id": "89c17531",
   "metadata": {},
   "outputs": [
    {
     "data": {
      "text/plain": [
       "{'청년': 10,\n",
       " '인재': 9,\n",
       " '개발': 0,\n",
       " '양성': 6,\n",
       " '과정': 1,\n",
       " '인공지능': 8,\n",
       " '미래': 5,\n",
       " '데이터': 4,\n",
       " '대한민국': 3,\n",
       " '원유': 7,\n",
       " '기술사': 2}"
      ]
     },
     "execution_count": 48,
     "metadata": {},
     "output_type": "execute_result"
    }
   ],
   "source": [
    "tfid.vocabulary_"
   ]
  },
  {
   "cell_type": "code",
   "execution_count": 49,
   "id": "caf339cf",
   "metadata": {},
   "outputs": [
    {
     "data": {
      "text/plain": [
       "array([[0.41263976, 0.52338122, 0.        , 0.        , 0.        ,\n",
       "        0.        , 0.41263976, 0.        , 0.        , 0.52338122,\n",
       "        0.33406745],\n",
       "       [0.        , 0.        , 0.        , 0.        , 0.        ,\n",
       "        0.        , 0.61366674, 0.        , 0.61366674, 0.        ,\n",
       "        0.49681612],\n",
       "       [0.        , 0.        , 0.        , 0.55528266, 0.43779123,\n",
       "        0.55528266, 0.        , 0.        , 0.43779123, 0.        ,\n",
       "        0.        ],\n",
       "       [0.41263976, 0.        , 0.52338122, 0.        , 0.41263976,\n",
       "        0.        , 0.        , 0.52338122, 0.        , 0.        ,\n",
       "        0.33406745]])"
      ]
     },
     "execution_count": 49,
     "metadata": {},
     "output_type": "execute_result"
    }
   ],
   "source": [
    "tfid.transform(corpus).toarray()"
   ]
  },
  {
   "cell_type": "code",
   "execution_count": 50,
   "id": "fe488b6a",
   "metadata": {},
   "outputs": [],
   "source": [
    "features_idf = tfid.transform(corpus)"
   ]
  },
  {
   "cell_type": "code",
   "execution_count": 51,
   "id": "a59b7c54",
   "metadata": {},
   "outputs": [
    {
     "data": {
      "text/plain": [
       "<4x11 sparse matrix of type '<class 'numpy.float64'>'\n",
       "\twith 17 stored elements in Compressed Sparse Row format>"
      ]
     },
     "execution_count": 51,
     "metadata": {},
     "output_type": "execute_result"
    }
   ],
   "source": [
    "features_idf"
   ]
  },
  {
   "cell_type": "markdown",
   "id": "5af01037",
   "metadata": {},
   "source": [
    "4) 문서단어행렬로 변환"
   ]
  },
  {
   "cell_type": "code",
   "execution_count": 53,
   "id": "0fb13d99",
   "metadata": {},
   "outputs": [
    {
     "name": "stderr",
     "output_type": "stream",
     "text": [
      "C:\\Users\\user\\anaconda3\\lib\\site-packages\\sklearn\\utils\\deprecation.py:87: FutureWarning: Function get_feature_names is deprecated; get_feature_names is deprecated in 1.0 and will be removed in 1.2. Please use get_feature_names_out instead.\n",
      "  warnings.warn(msg, category=FutureWarning)\n"
     ]
    }
   ],
   "source": [
    "vocab_idf = count_vect.get_feature_names()"
   ]
  },
  {
   "cell_type": "code",
   "execution_count": 56,
   "id": "7c2d6324",
   "metadata": {},
   "outputs": [],
   "source": [
    "DTM_idf = pd.DataFrame(features_idf.toarray(), columns = vocab_idf).head"
   ]
  },
  {
   "cell_type": "code",
   "execution_count": 57,
   "id": "41060042",
   "metadata": {},
   "outputs": [
    {
     "data": {
      "text/plain": [
       "<bound method NDFrame.head of         개발        과정       기술사      대한민국       데이터        미래        양성  \\\n",
       "0  0.41264  0.523381  0.000000  0.000000  0.000000  0.000000  0.412640   \n",
       "1  0.00000  0.000000  0.000000  0.000000  0.000000  0.000000  0.613667   \n",
       "2  0.00000  0.000000  0.000000  0.555283  0.437791  0.555283  0.000000   \n",
       "3  0.41264  0.000000  0.523381  0.000000  0.412640  0.000000  0.000000   \n",
       "\n",
       "         원유      인공지능        인재        청년  \n",
       "0  0.000000  0.000000  0.523381  0.334067  \n",
       "1  0.000000  0.613667  0.000000  0.496816  \n",
       "2  0.000000  0.437791  0.000000  0.000000  \n",
       "3  0.523381  0.000000  0.000000  0.334067  >"
      ]
     },
     "execution_count": 57,
     "metadata": {},
     "output_type": "execute_result"
    }
   ],
   "source": [
    "DTM_idf"
   ]
  },
  {
   "cell_type": "code",
   "execution_count": null,
   "id": "3874a1d3",
   "metadata": {},
   "outputs": [],
   "source": []
  }
 ],
 "metadata": {
  "kernelspec": {
   "display_name": "Python 3 (ipykernel)",
   "language": "python",
   "name": "python3"
  },
  "language_info": {
   "codemirror_mode": {
    "name": "ipython",
    "version": 3
   },
   "file_extension": ".py",
   "mimetype": "text/x-python",
   "name": "python",
   "nbconvert_exporter": "python",
   "pygments_lexer": "ipython3",
   "version": "3.9.12"
  }
 },
 "nbformat": 4,
 "nbformat_minor": 5
}
